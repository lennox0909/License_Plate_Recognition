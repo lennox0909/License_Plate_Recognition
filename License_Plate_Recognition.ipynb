{
 "cells": [
  {
   "cell_type": "code",
   "execution_count": 1,
   "metadata": {},
   "outputs": [
    {
     "name": "stderr",
     "output_type": "stream",
     "text": [
      "Using TensorFlow backend.\n"
     ]
    }
   ],
   "source": [
    "import warnings\n",
    "warnings.filterwarnings('ignore')\n",
    "\n",
    "# import os\n",
    "# import argparse\n",
    "# import json\n",
    "import cv2\n",
    "from utils.utils import get_yolo_boxes, makedirs\n",
    "from utils.bbox import draw_boxes\n",
    "from keras.models import load_model\n",
    "from tqdm import tqdm\n",
    "import numpy as np\n",
    "import glob\n",
    "import matplotlib.pyplot as plt\n",
    "# from matplotlib.pyplot import imshow\n",
    "# from matplotlib.patches import Rectangle\n",
    "%matplotlib inline"
   ]
  },
  {
   "cell_type": "code",
   "execution_count": 2,
   "metadata": {},
   "outputs": [],
   "source": [
    "yolov3 = load_model('LicensePlate_0219.h5')"
   ]
  },
  {
   "cell_type": "code",
   "execution_count": null,
   "metadata": {},
   "outputs": [],
   "source": [
    "'''\n",
    "車牌辨識(單張)\n",
    "'''\n",
    "\n",
    "net_h, net_w = 416, 416 # a multiple of 32, the smaller the faster\n",
    "obj_thresh, nms_thresh = 0.6, 0.45\n",
    "\n",
    "anchors = [55,69, 75,234, 133,240, 136,129, 142,363, 203,290, 228,184, 285,359, 341,260]\n",
    "labels = [\"LP\"]\n",
    "# image_path = './realPlate/7B9001.jpg'\n",
    "image_path = './input/IMG_0074.jpg'\n",
    "# image_path = 'P_20190101_054722.jpg'\n",
    "output_sign = '_LPR.'\n",
    "output_dir = './output/'"
   ]
  },
  {
   "cell_type": "code",
   "execution_count": null,
   "metadata": {},
   "outputs": [],
   "source": [
    "\n",
    "# do detection on an image\n",
    "\n",
    "image = cv2.imread(image_path)\n",
    "\n",
    "\n",
    "# predict the bounding boxes\n",
    "boxes = get_yolo_boxes(yolov3, [image], net_h, net_w, anchors, obj_thresh, nms_thresh)[0]\n",
    "print('有{0}個box'.format(len(boxes)))\n",
    "# draw bounding boxes on the image using labels\n",
    "# draw_boxes(image, boxes, labels, obj_thresh, False) \n",
    "\n",
    "# draw_boxes(image, boxes, labels, obj_thresh)\n",
    "image = draw_boxes(image, boxes, labels, obj_thresh)\n",
    "print('image.shape => {0}'.format(image.shape))\n",
    "\n",
    "# write the image with bounding boxes to file\n",
    "\n",
    "cv2.imwrite(output_dir + image_path.split('.')[0] + output_sign + image_path.split('.')[-1], np.uint8(image))\n",
    "plt.imshow(image[:,:,::-1])\n",
    "\n"
   ]
  },
  {
   "cell_type": "code",
   "execution_count": 5,
   "metadata": {},
   "outputs": [],
   "source": [
    "'''\n",
    "車牌辨識LOOP\n",
    "'''\n",
    "\n",
    "\n",
    "net_h, net_w = 416, 416 # a multiple of 32, the smaller the faster\n",
    "obj_thresh, nms_thresh = 0.6, 0.45\n",
    "\n",
    "anchors = [55,69, 75,234, 133,240, 136,129, 142,363, 203,290, 228,184, 285,359, 341,260]\n",
    "labels = [\"LP\"]\n",
    "\n",
    "input_dir = './0219_data/'\n",
    "input_type = '*.jpg'\n",
    "output_sign = '_LPR.'\n",
    "output_dir = './0219_data_output/'"
   ]
  },
  {
   "cell_type": "code",
   "execution_count": 6,
   "metadata": {},
   "outputs": [],
   "source": [
    "files = glob.glob(input_dir + input_type)\n",
    "for f in files:\n",
    "    ftype = f.split('.')[-1]\n",
    "    filename = f.split('.')[1].split('/')[-1]\n",
    "    \n",
    "    # do detection on an image\n",
    "    image = cv2.imread(f)\n",
    "\n",
    "    # predict the bounding boxes\n",
    "    boxes = get_yolo_boxes(yolov3, [image], net_h, net_w, anchors, obj_thresh, nms_thresh)[0]\n",
    "\n",
    "    # draw bounding boxes on the image using labels\n",
    "    # draw_boxes(image, boxes, labels, obj_thresh, False) \n",
    "\n",
    "    # draw_boxes(image, boxes, labels, obj_thresh)\n",
    "    image = draw_boxes(image, boxes, labels, obj_thresh)\n",
    "\n",
    "    # write the image with bounding boxes to file\n",
    "    cv2.imwrite(output_dir + filename + output_sign + ftype, np.uint8(image))\n",
    "\n"
   ]
  },
  {
   "cell_type": "code",
   "execution_count": null,
   "metadata": {},
   "outputs": [],
   "source": []
  }
 ],
 "metadata": {
  "kernelspec": {
   "display_name": "Python 3",
   "language": "python",
   "name": "python3"
  },
  "language_info": {
   "codemirror_mode": {
    "name": "ipython",
    "version": 3
   },
   "file_extension": ".py",
   "mimetype": "text/x-python",
   "name": "python",
   "nbconvert_exporter": "python",
   "pygments_lexer": "ipython3",
   "version": "3.6.0"
  }
 },
 "nbformat": 4,
 "nbformat_minor": 2
}
